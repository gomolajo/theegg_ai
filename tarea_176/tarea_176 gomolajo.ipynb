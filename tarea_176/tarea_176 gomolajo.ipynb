{
 "cells": [
  {
   "cell_type": "raw",
   "id": "f1790456",
   "metadata": {},
   "source": [
    "1. Programa que diga el máximo de 3 números dados"
   ]
  },
  {
   "cell_type": "code",
   "execution_count": 4,
   "id": "1031c639",
   "metadata": {},
   "outputs": [
    {
     "name": "stdout",
     "output_type": "stream",
     "text": [
      "100 es el mayor de entre estos valores 15, 100 y 14.\n"
     ]
    }
   ],
   "source": [
    "a=15\n",
    "b=100\n",
    "c=14\n",
    "if a>b and a>c:\n",
    "    print(str(a)+\" es el mayor de entre estos valores \"+str(a)+\", \"+str(b)+\" y \"+str(c)+\".\")\n",
    "elif b>a and b>c:\n",
    "    print(str(b)+\" es el mayor de entre estos valores \"+str(a)+\", \"+str(b)+\" y \"+str(c)+\".\")\n",
    "elif c>a and c>a:\n",
    "    print(str(c)+\" es el mayor de entre estos valores \"+str(a)+\", \"+str(b)+\" y \"+str(c)+\".\")\n",
    "else:\n",
    "    print(\"Son iguales.\")"
   ]
  },
  {
   "cell_type": "markdown",
   "id": "e9f6caf9",
   "metadata": {},
   "source": [
    "2. Programa que diga la longitud de una frase"
   ]
  },
  {
   "cell_type": "code",
   "execution_count": 1,
   "id": "dd957f2c",
   "metadata": {},
   "outputs": [
    {
     "name": "stdout",
     "output_type": "stream",
     "text": [
      "La frase 'Hola a todos' tiene 12 caracteres.\n"
     ]
    }
   ],
   "source": [
    "cuenta=0\n",
    "sentencia=\"Hola a todos\"\n",
    "for n in sentencia:\n",
    "    cuenta+=1\n",
    "print(\"La frase '\"+sentencia+\"' tiene \"+str(cuenta)+\" caracteres.\")"
   ]
  },
  {
   "cell_type": "markdown",
   "id": "9ed6aac5",
   "metadata": {},
   "source": [
    "3. Programa que determine si un carácter previamente dado es vocal o no"
   ]
  },
  {
   "cell_type": "code",
   "execution_count": 2,
   "id": "aa4aa270",
   "metadata": {},
   "outputs": [
    {
     "name": "stdout",
     "output_type": "stream",
     "text": [
      "j no es una vocal.\n"
     ]
    }
   ],
   "source": [
    "resultado=0\n",
    "dato=\"j\"\n",
    "#vocales=[\"a\",\"e\",\"i\",\"o\",\"u\",\"A\",\"E\",\"I\",\"O\",\"U\"]\n",
    "vocales=\"aeiouAEIOU\"\n",
    "for n in vocales:\n",
    "    if dato==n:\n",
    "        print(dato,\"es una vocal.\")\n",
    "        resultado=1\n",
    "if resultado==0:\n",
    "    print(dato,\"no es una vocal.\")"
   ]
  },
  {
   "cell_type": "markdown",
   "id": "3fdc83b8",
   "metadata": {},
   "source": [
    "4. Programa que sume los valores de una lista"
   ]
  },
  {
   "cell_type": "code",
   "execution_count": 3,
   "id": "9e8acdd6",
   "metadata": {},
   "outputs": [
    {
     "name": "stdout",
     "output_type": "stream",
     "text": [
      "40\n"
     ]
    }
   ],
   "source": [
    "suma=0\n",
    "lista=[13,21,4,2]\n",
    "for n in lista:\n",
    "    suma+=n\n",
    "print(suma)"
   ]
  },
  {
   "cell_type": "markdown",
   "id": "f88878da",
   "metadata": {},
   "source": [
    "5. Programa que diga si una palabra dada es palíndromo"
   ]
  },
  {
   "cell_type": "code",
   "execution_count": 6,
   "id": "db8e490e",
   "metadata": {},
   "outputs": [
    {
     "name": "stdout",
     "output_type": "stream",
     "text": [
      "Si es palindromo\n"
     ]
    }
   ],
   "source": [
    "def funcionPalindromo(parametro):\n",
    "    palin=parametro[::-1]\n",
    "    if parametro==palin:\n",
    "       print(\"Si es palindromo\")\n",
    "    else:\n",
    "        print(\"No es palindromo\")\n",
    "funcionPalindromo(\"elle\")"
   ]
  },
  {
   "cell_type": "markdown",
   "id": "5ce3c070",
   "metadata": {},
   "source": [
    "6. Programa que compare dos listas y encuentre si hay algún valor coincidente"
   ]
  },
  {
   "cell_type": "code",
   "execution_count": 7,
   "id": "4d7a4d73",
   "metadata": {},
   "outputs": [
    {
     "name": "stdout",
     "output_type": "stream",
     "text": [
      "Ambas listas contienen el 3.\n",
      "Ambas listas contienen el 4.\n",
      "Hay 2 coincidencias.\n"
     ]
    }
   ],
   "source": [
    "coincidencias=0\n",
    "lista1=[1,2,3,4]\n",
    "lista2=[3,4,5,6]\n",
    "for n in lista1:\n",
    "    for m in lista2:\n",
    "        if m==n:\n",
    "            print(\"Ambas listas contienen el \"+str(n)+\".\")\n",
    "            coincidencias+=1\n",
    "print (\"Hay\",coincidencias,\"coincidencias.\")"
   ]
  }
 ],
 "metadata": {
  "kernelspec": {
   "display_name": "Python 3 (ipykernel)",
   "language": "python",
   "name": "python3"
  },
  "language_info": {
   "codemirror_mode": {
    "name": "ipython",
    "version": 3
   },
   "file_extension": ".py",
   "mimetype": "text/x-python",
   "name": "python",
   "nbconvert_exporter": "python",
   "pygments_lexer": "ipython3",
   "version": "3.9.12"
  }
 },
 "nbformat": 4,
 "nbformat_minor": 5
}
